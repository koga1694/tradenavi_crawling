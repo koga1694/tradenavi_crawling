{
 "cells": [
  {
   "cell_type": "code",
   "execution_count": 1,
   "metadata": {},
   "outputs": [],
   "source": [
    "import pandas as pd\n",
    "import numpy as np\n",
    "import matplotlib.pyplot as plt\n",
    "import seaborn as sns\n",
    "import requests\n",
    "from selenium import webdriver\n",
    "from matplotlib import font_manager, rc\n",
    "from selenium.webdriver.common.by import By\n",
    "from time import sleep\n",
    "from bs4 import BeautifulSoup as BS\n",
    "from tqdm import tqdm\n",
    "from selenium.webdriver.support.ui import WebDriverWait\n",
    "from selenium.webdriver.support import expected_conditions as EC\n"
   ]
  },
  {
   "cell_type": "code",
   "execution_count": 2,
   "metadata": {},
   "outputs": [],
   "source": [
    "def add_text():\n",
    "    global get_text\n",
    "    global at    \n",
    "    text_list = get_text[1:]\n",
    "    for i, t in enumerate(text_list):\n",
    "        \n",
    "        if len(text_list) == 1:\n",
    "            at = t\n",
    "            break\n",
    "        \n",
    "        if i == 0:\n",
    "            at = t + ' '\n",
    "        \n",
    "        elif i != 0:\n",
    "            at = at + t + ' '\n",
    "        \n",
    "        elif text_list[i] == text_list[-1]:\n",
    "            at = at + t\n",
    "            \n",
    "    return at"
   ]
  },
  {
   "cell_type": "code",
   "execution_count": 3,
   "metadata": {},
   "outputs": [
    {
     "name": "stderr",
     "output_type": "stream",
     "text": [
      "C:\\Users\\signlab026\\AppData\\Local\\Temp\\ipykernel_2484\\3900480745.py:2: DeprecationWarning: executable_path has been deprecated, please pass in a Service object\n",
      "  driver = webdriver.Chrome(path)\n",
      "  0%|          | 0/243 [00:00<?, ?it/s]"
     ]
    }
   ],
   "source": [
    "path = 'C:/workplace/빅분사_테크로스제외/진심유통/5차컨설팅/chromedriver.exe'\n",
    "driver = webdriver.Chrome(path)\n",
    "driver.get('http://www.tradenavi.or.kr/CmsWeb/viewPage.req?idx=PG0000001769')\n",
    "sleep(3)\n",
    "wait = WebDriverWait(driver, 120)\n",
    "# 총 국가 종류 243\n",
    "for c_index in tqdm(range(243)):\n",
    "    data_list = []\n",
    "    \n",
    "    # 업종 목록\n",
    "    driver.find_element(By.XPATH, '/html/body/div[2]/div[2]/div[1]/div[2]/form/div[2]/ul/li[1]/dl/dd/div/span').click()\n",
    "    sleep(1)\n",
    "\n",
    "    # 가공식품 선택\n",
    "    driver.find_element(By.XPATH,'/html/body/div[2]/div[2]/div[1]/div[2]/form/div[2]/ul/li[1]/dl/dd/div/ul/li[17]').click()\n",
    "    sleep(1)\n",
    "    \n",
    "    # 국가 선택 목록\n",
    "    driver.find_element(By.XPATH,'/html/body/div[2]/div[2]/div[1]/div[2]/form/div[1]/ul/li[1]/dl/dd/div/a/img').click()\n",
    "    sleep(2)\n",
    "    \n",
    "    # 국가 선택 / 총 243 국가\n",
    "    driver.find_element(By.XPATH,f'/html/body/div[2]/div[2]/div[1]/div[2]/form/div[1]/ul/li[1]/dl/dd/div/div/div/div[2]/div/ul/li[{c_index+1}]/dl/dd[2]/a').click()\n",
    "    sleep(1)   \n",
    "    # 검색\n",
    "    driver.find_element(By.XPATH,'/html/body/div[2]/div[2]/div[1]/div[2]/form/div[2]/input').click()\n",
    "        \n",
    "    # 총 페이지 수\n",
    "    last_page = int(driver.find_element(By.XPATH,f'/html/body/div[2]/div[2]/div/div[2]/div[2]/div[2]/div/div/a[4]').text)\n",
    "    page_count = 0\n",
    "    \n",
    "    while True:\n",
    "        # 페이지 선택\n",
    "        for page in range(10):\n",
    "            wait.until(EC.element_to_be_clickable((By.XPATH,f'/html/body/div[2]/div[2]/div/div[2]/div[2]/div[2]/div/div/span/a[{page+1}]'))).click()\n",
    "\n",
    "            # driver.find_element(By.XPATH,f'/html/body/div[2]/div[2]/div/div[2]/div[2]/div[2]/div/div/span/a[{page+1}]').click()\n",
    "            page_count += 1\n",
    "            # 바이어 목록\n",
    "            try:\n",
    "                for buyer in range(5):\n",
    "                    at = ''\n",
    "                    wait.until(EC.element_to_be_clickable((By.XPATH,f'/html/body/div[2]/div[2]/div/div[2]/div[2]/div[2]/table/tbody/tr[{buyer+1}]/td[2]'))).click()\n",
    "                    # driver.find_element(By.XPATH,f'/html/body/div[2]/div[2]/div/div[2]/div[2]/div[2]/table/tbody/tr[{buyer+1}]/td[2]').click()\n",
    "                    data = pd.DataFrame(columns=['국가', '회사명', '주요상품', '대표전화', '홈페이지'])\n",
    "                    sleep(1)\n",
    "                    # 상세내역\n",
    "                    text = driver.find_element(By.XPATH,'/html/body/div[2]/div[2]/div/div[2]/div[2]/div[3]/table/tbody').text.split('\\n')\n",
    "                    for i, get_text in enumerate(text):\n",
    "                        \n",
    "                        get_text = get_text.split(' ')\n",
    "                        data[get_text[0]] = [add_text()]\n",
    "                        \n",
    "                    data_list.append(data)\n",
    "                    del at\n",
    "                \n",
    "            except:\n",
    "                print('더 이상 조회할 바이어가 없습니다.')\n",
    "                break\n",
    "            \n",
    "            # 마지막 페이지\n",
    "            if page_count+1 == last_page:\n",
    "                break   \n",
    "            \n",
    "            # 페이지 넘기기\n",
    "            if page+1 == 10:\n",
    "                driver.find_element(By.XPATH,f'/html/body/div[2]/div[2]/div/div[2]/div[2]/div[2]/div/div/a[3]').click()\n",
    "                \n",
    "                break\n",
    "            \n",
    "     \n",
    "        if page_count+1 == last_page:\n",
    "            break\n",
    "\n",
    "        \n",
    "\n",
    "    save_data = pd.concat(data_list).drop_duplicates()\n",
    "    save_data.to_csv(f'{c_index}번째 나라.csv')\n",
    "\n",
    "\n",
    "\n",
    "\n",
    "\n"
   ]
  },
  {
   "cell_type": "code",
   "execution_count": 25,
   "metadata": {},
   "outputs": [],
   "source": [
    "wait.until(EC.element_to_be_clickable((By.XPATH,f'/html/body/div[2]/div[2]/div/div[2]/div[2]/div[2]/div/div/span/a[{page+1}]'))).click()\n",
    "# By.XPATH,f'/html/body/div[2]/div[2]/div/div[2]/div[2]/div[2]/div/div/span/a[{page+1}]'"
   ]
  },
  {
   "cell_type": "code",
   "execution_count": 14,
   "metadata": {},
   "outputs": [],
   "source": [
    "at = ''\n",
    "for buyer in range(5):\n",
    "    wait.until(EC.element_to_be_clickable((By.XPATH,f'/html/body/div[2]/div[2]/div/div[2]/div[2]/div[2]/table/tbody/tr[{buyer+1}]/td[2]'))).click()\n",
    "    # driver.find_element(By.XPATH,f'/html/body/div[2]/div[2]/div/div[2]/div[2]/div[2]/table/tbody/tr[{buyer+1}]/td[2]').click()\n",
    "    data = pd.DataFrame(columns=['국가', '회사명', '주요상품', '대표전화', '홈페이지'])\n",
    "    sleep(1)\n",
    "    # 상세내역\n",
    "    text = driver.find_element(By.XPATH,'/html/body/div[2]/div[2]/div/div[2]/div[2]/div[3]/table/tbody').text.split('\\n')\n",
    "    for i, get_text in enumerate(text):\n",
    "        # print(get_text.split(' '))\n",
    "        \n",
    "        get_text = get_text.split(' ')\n",
    "        data[get_text[0]] = [add_text()]\n",
    "        \n",
    "    data_list.append(data)\n"
   ]
  },
  {
   "cell_type": "code",
   "execution_count": 17,
   "metadata": {},
   "outputs": [],
   "source": [
    "del at\n"
   ]
  }
 ],
 "metadata": {
  "kernelspec": {
   "display_name": "Python 3.8.13 ('gibo')",
   "language": "python",
   "name": "python3"
  },
  "language_info": {
   "codemirror_mode": {
    "name": "ipython",
    "version": 3
   },
   "file_extension": ".py",
   "mimetype": "text/x-python",
   "name": "python",
   "nbconvert_exporter": "python",
   "pygments_lexer": "ipython3",
   "version": "3.8.13"
  },
  "orig_nbformat": 4,
  "vscode": {
   "interpreter": {
    "hash": "dc1e82e8c2e80dfa7e7e3acbec24fc4d7ec5d11c3457420f2152c3746fdf3c94"
   }
  }
 },
 "nbformat": 4,
 "nbformat_minor": 2
}
